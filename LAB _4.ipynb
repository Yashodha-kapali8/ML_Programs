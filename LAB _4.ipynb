{
  "cells": [
    {
      "cell_type": "markdown",
      "metadata": {
        "id": "view-in-github",
        "colab_type": "text"
      },
      "source": [
        "<a href=\"https://colab.research.google.com/github/Yashodha-kapali8/ML_Programs/blob/main/LAB%20_4.ipynb\" target=\"_parent\"><img src=\"https://colab.research.google.com/assets/colab-badge.svg\" alt=\"Open In Colab\"/></a>"
      ]
    },
    {
      "cell_type": "markdown",
      "source": [
        "**PROGRAM 4:**\n",
        "\n",
        "For a given set of training data examples stored in a .CSV file, implement and demonstrate the Find-S algorithm to output a description of the set of all hypotheses consistent with the training examples."
      ],
      "metadata": {
        "id": "Ks1zg4LFGXln"
      }
    },
    {
      "cell_type": "code",
      "source": [
        "import pandas as pd\n",
        "\n",
        "# Directly load the file assuming it's already in /content\n",
        "df = pd.read_csv(\"/content/enjoysport (1).csv\")  # Make sure file is named correctly\n",
        "\n",
        "# Display the dataset\n",
        "print(\"The dataset is:\\n\", df)\n",
        "\n",
        "# Extract values\n",
        "data = df.values\n",
        "\n",
        "# Initialize the hypothesis as the most specific one\n",
        "h = ['0'] * (data.shape[1] - 1)\n",
        "\n",
        "# Generalization function to update hypothesis\n",
        "def Generalize(h, sample):\n",
        "    for i in range(len(sample)):\n",
        "        if h[i] == '0':\n",
        "            h[i] = sample[i]\n",
        "        elif h[i] != sample[i]:\n",
        "            h[i] = '?'\n",
        "    return h\n",
        "\n",
        "# Separate features and target\n",
        "X = data[:, :-1]\n",
        "Y = data[:, -1]\n",
        "\n",
        "# Find the first positive example to initialize hypothesis\n",
        "found = False\n",
        "for i in range(len(Y)):\n",
        "    if Y[i] == 'Y':\n",
        "        h = X[i]\n",
        "        found = True\n",
        "        break\n",
        "\n",
        "# If no positive example found\n",
        "if not found:\n",
        "    print(\"Error: No positive example in dataset\")\n",
        "else:\n",
        "    # Generalize over the rest\n",
        "    for i in range(len(X)):\n",
        "        if Y[i] == 'Y':\n",
        "            h = Generalize(h, X[i])\n",
        "\n",
        "    print(\"\\nThe most specific hypothesis is:\", h)\n"
      ],
      "metadata": {
        "id": "lOFEpnMdKFSA",
        "outputId": "5f46c361-8914-4790-9572-e280830df5bf",
        "colab": {
          "base_uri": "https://localhost:8080/"
        }
      },
      "execution_count": 32,
      "outputs": [
        {
          "output_type": "stream",
          "name": "stdout",
          "text": [
            "The dataset is:\n",
            "      sky airtemp humidity    wind water forecast enjoy\n",
            "0  sunny    warm   normal  strong  warm     same     Y\n",
            "1  sunny    warm     high  strong  warm     same     Y\n",
            "2  rainy    cold     high  strong  warm   change     N\n",
            "3  sunny    warm     high  strong  cool   change     Y\n",
            "\n",
            "The most specific hypothesis is: ['sunny' 'warm' '?' 'strong' '?' '?']\n"
          ]
        }
      ]
    }
  ],
  "metadata": {
    "colab": {
      "name": "Welcome To Colab",
      "provenance": [],
      "include_colab_link": true
    },
    "kernelspec": {
      "display_name": "Python 3",
      "name": "python3"
    }
  },
  "nbformat": 4,
  "nbformat_minor": 0
}